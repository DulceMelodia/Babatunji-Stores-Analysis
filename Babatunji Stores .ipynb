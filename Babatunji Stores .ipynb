{
 "cells": [
  {
   "cell_type": "code",
   "execution_count": 12,
   "metadata": {},
   "outputs": [],
   "source": [
    "# # Variable Description\n",
    "# •\tItem_ID: Unique product ID\n",
    "# •\tItem_Weight: Weight of the product\n",
    "# •\tItem_Sugar_Content: Sugar content of the product\n",
    "# •\tItem_Visibility: The percentage of total display area of all products in Chief Babatunji’s supermarket allocated to the particular product\n",
    "# •\tItem_Type: The category to which the product belongs\n",
    "# •\tItem_Price: Retail price of the product\n",
    "# •\tStore_ID: Unique store ID\n",
    "# •\tStore_Start_Year: The year in which store was opened\n",
    "# •\tStore_Size: The size of the store in terms of total ground area covered\n",
    "# •\tStore_Location_Type: The type of city in which the store is located\n",
    "# •\tStore_Type: Description of the store based on category of items sold\n",
    "# •\tItem_Store_ID: Unique identifier of each product type per supermarket.\n",
    "# •\tItem_Store_Returns: Profit returns on the product in the particular store. This is the outcome variable to be predicted.\n"
   ]
  },
  {
   "cell_type": "code",
   "execution_count": 2,
   "metadata": {},
   "outputs": [],
   "source": [
    "import pandas as pd\n",
    "import numpy as np\n",
    "import seaborn as sns\n",
    "import matplotlib.pyplot as plt\n",
    "%matplotlib inline"
   ]
  },
  {
   "cell_type": "code",
   "execution_count": 3,
   "metadata": {},
   "outputs": [],
   "source": [
    "df = pd.read_csv('Babatunde Store.xls')"
   ]
  },
  {
   "cell_type": "code",
   "execution_count": 4,
   "metadata": {},
   "outputs": [
    {
     "data": {
      "text/html": [
       "<div>\n",
       "<style scoped>\n",
       "    .dataframe tbody tr th:only-of-type {\n",
       "        vertical-align: middle;\n",
       "    }\n",
       "\n",
       "    .dataframe tbody tr th {\n",
       "        vertical-align: top;\n",
       "    }\n",
       "\n",
       "    .dataframe thead th {\n",
       "        text-align: right;\n",
       "    }\n",
       "</style>\n",
       "<table border=\"1\" class=\"dataframe\">\n",
       "  <thead>\n",
       "    <tr style=\"text-align: right;\">\n",
       "      <th></th>\n",
       "      <th>Item_ID</th>\n",
       "      <th>Store_ID</th>\n",
       "      <th>Item_Store_ID</th>\n",
       "      <th>Item_Weight</th>\n",
       "      <th>Item_Sugar_Content</th>\n",
       "      <th>Item_Visibility</th>\n",
       "      <th>Item_Type</th>\n",
       "      <th>Item_Price</th>\n",
       "      <th>Store_Start_Year</th>\n",
       "      <th>Store_Size</th>\n",
       "      <th>Store_Location_Type</th>\n",
       "      <th>Store_Type</th>\n",
       "      <th>Item_Store_Returns</th>\n",
       "    </tr>\n",
       "  </thead>\n",
       "  <tbody>\n",
       "    <tr>\n",
       "      <th>0</th>\n",
       "      <td>DRA12</td>\n",
       "      <td>BABATUNJI010</td>\n",
       "      <td>DRA12_BABATUNJI010</td>\n",
       "      <td>11.6</td>\n",
       "      <td>Low Sugar</td>\n",
       "      <td>0.068535</td>\n",
       "      <td>Soft Drinks</td>\n",
       "      <td>357.54</td>\n",
       "      <td>2005</td>\n",
       "      <td>NaN</td>\n",
       "      <td>Cluster 3</td>\n",
       "      <td>Grocery Store</td>\n",
       "      <td>709.08</td>\n",
       "    </tr>\n",
       "    <tr>\n",
       "      <th>1</th>\n",
       "      <td>DRA12</td>\n",
       "      <td>BABATUNJI013</td>\n",
       "      <td>DRA12_BABATUNJI013</td>\n",
       "      <td>11.6</td>\n",
       "      <td>Low Sugar</td>\n",
       "      <td>0.040912</td>\n",
       "      <td>Soft Drinks</td>\n",
       "      <td>355.79</td>\n",
       "      <td>1994</td>\n",
       "      <td>High</td>\n",
       "      <td>Cluster 3</td>\n",
       "      <td>Supermarket Type1</td>\n",
       "      <td>6381.69</td>\n",
       "    </tr>\n",
       "    <tr>\n",
       "      <th>2</th>\n",
       "      <td>DRA12</td>\n",
       "      <td>BABATUNJI017</td>\n",
       "      <td>DRA12_BABATUNJI017</td>\n",
       "      <td>11.6</td>\n",
       "      <td>Low Sugar</td>\n",
       "      <td>0.041178</td>\n",
       "      <td>Soft Drinks</td>\n",
       "      <td>350.79</td>\n",
       "      <td>2014</td>\n",
       "      <td>NaN</td>\n",
       "      <td>Cluster 2</td>\n",
       "      <td>Supermarket Type1</td>\n",
       "      <td>6381.69</td>\n",
       "    </tr>\n",
       "    <tr>\n",
       "      <th>3</th>\n",
       "      <td>DRA12</td>\n",
       "      <td>BABATUNJI018</td>\n",
       "      <td>DRA12_BABATUNJI018</td>\n",
       "      <td>11.6</td>\n",
       "      <td>Low Sugar</td>\n",
       "      <td>0.041113</td>\n",
       "      <td>Soft Drinks</td>\n",
       "      <td>355.04</td>\n",
       "      <td>2016</td>\n",
       "      <td>Medium</td>\n",
       "      <td>Cluster 3</td>\n",
       "      <td>Supermarket Type2</td>\n",
       "      <td>2127.23</td>\n",
       "    </tr>\n",
       "    <tr>\n",
       "      <th>4</th>\n",
       "      <td>DRA12</td>\n",
       "      <td>BABATUNJI035</td>\n",
       "      <td>DRA12_BABATUNJI035</td>\n",
       "      <td>11.6</td>\n",
       "      <td>Ultra Low Sugar</td>\n",
       "      <td>0.000000</td>\n",
       "      <td>Soft Drinks</td>\n",
       "      <td>354.79</td>\n",
       "      <td>2011</td>\n",
       "      <td>Small</td>\n",
       "      <td>Cluster 2</td>\n",
       "      <td>Supermarket Type1</td>\n",
       "      <td>2481.77</td>\n",
       "    </tr>\n",
       "  </tbody>\n",
       "</table>\n",
       "</div>"
      ],
      "text/plain": [
       "  Item_ID      Store_ID       Item_Store_ID  Item_Weight Item_Sugar_Content  \\\n",
       "0   DRA12  BABATUNJI010  DRA12_BABATUNJI010         11.6          Low Sugar   \n",
       "1   DRA12  BABATUNJI013  DRA12_BABATUNJI013         11.6          Low Sugar   \n",
       "2   DRA12  BABATUNJI017  DRA12_BABATUNJI017         11.6          Low Sugar   \n",
       "3   DRA12  BABATUNJI018  DRA12_BABATUNJI018         11.6          Low Sugar   \n",
       "4   DRA12  BABATUNJI035  DRA12_BABATUNJI035         11.6    Ultra Low Sugar   \n",
       "\n",
       "   Item_Visibility    Item_Type  Item_Price  Store_Start_Year Store_Size  \\\n",
       "0         0.068535  Soft Drinks      357.54              2005        NaN   \n",
       "1         0.040912  Soft Drinks      355.79              1994       High   \n",
       "2         0.041178  Soft Drinks      350.79              2014        NaN   \n",
       "3         0.041113  Soft Drinks      355.04              2016     Medium   \n",
       "4         0.000000  Soft Drinks      354.79              2011      Small   \n",
       "\n",
       "  Store_Location_Type         Store_Type  Item_Store_Returns  \n",
       "0           Cluster 3      Grocery Store              709.08  \n",
       "1           Cluster 3  Supermarket Type1             6381.69  \n",
       "2           Cluster 2  Supermarket Type1             6381.69  \n",
       "3           Cluster 3  Supermarket Type2             2127.23  \n",
       "4           Cluster 2  Supermarket Type1             2481.77  "
      ]
     },
     "execution_count": 4,
     "metadata": {},
     "output_type": "execute_result"
    }
   ],
   "source": [
    "df.head()"
   ]
  },
  {
   "cell_type": "code",
   "execution_count": 5,
   "metadata": {},
   "outputs": [
    {
     "name": "stdout",
     "output_type": "stream",
     "text": [
      "<class 'pandas.core.frame.DataFrame'>\n",
      "RangeIndex: 4990 entries, 0 to 4989\n",
      "Data columns (total 13 columns):\n",
      " #   Column               Non-Null Count  Dtype  \n",
      "---  ------               --------------  -----  \n",
      " 0   Item_ID              4990 non-null   object \n",
      " 1   Store_ID             4990 non-null   object \n",
      " 2   Item_Store_ID        4990 non-null   object \n",
      " 3   Item_Weight          4188 non-null   float64\n",
      " 4   Item_Sugar_Content   4990 non-null   object \n",
      " 5   Item_Visibility      4990 non-null   float64\n",
      " 6   Item_Type            4990 non-null   object \n",
      " 7   Item_Price           4990 non-null   float64\n",
      " 8   Store_Start_Year     4990 non-null   int64  \n",
      " 9   Store_Size           3540 non-null   object \n",
      " 10  Store_Location_Type  4990 non-null   object \n",
      " 11  Store_Type           4990 non-null   object \n",
      " 12  Item_Store_Returns   4990 non-null   float64\n",
      "dtypes: float64(4), int64(1), object(8)\n",
      "memory usage: 506.9+ KB\n"
     ]
    }
   ],
   "source": [
    "df.info()"
   ]
  },
  {
   "cell_type": "code",
   "execution_count": 6,
   "metadata": {},
   "outputs": [],
   "source": [
    "# filling empty values\n",
    "df['Store_Size'] = df['Store_Size'].fillna(df['Store_Size'].mode()[0])"
   ]
  },
  {
   "cell_type": "code",
   "execution_count": 7,
   "metadata": {},
   "outputs": [],
   "source": [
    "df['Item_Weight'] = df['Item_Weight'].fillna(round(df['Item_Weight'].mean(),3))"
   ]
  },
  {
   "cell_type": "code",
   "execution_count": 8,
   "metadata": {},
   "outputs": [],
   "source": [
    "df.to_csv('Babatunde Score.csv')"
   ]
  },
  {
   "cell_type": "code",
   "execution_count": 9,
   "metadata": {},
   "outputs": [
    {
     "name": "stderr",
     "output_type": "stream",
     "text": [
      "C:\\Users\\Melie\\AppData\\Local\\Temp\\ipykernel_11220\\2178203693.py:1: UserWarning: \n",
      "\n",
      "`distplot` is a deprecated function and will be removed in seaborn v0.14.0.\n",
      "\n",
      "Please adapt your code to use either `displot` (a figure-level function with\n",
      "similar flexibility) or `histplot` (an axes-level function for histograms).\n",
      "\n",
      "For a guide to updating your code to use the new functions, please see\n",
      "https://gist.github.com/mwaskom/de44147ed2974457ad6372750bbe5751\n",
      "\n",
      "  sns.distplot(a=df,x=df['Item_Weight'])\n"
     ]
    },
    {
     "data": {
      "text/plain": [
       "<AxesSubplot:ylabel='Density'>"
      ]
     },
     "execution_count": 9,
     "metadata": {},
     "output_type": "execute_result"
    },
    {
     "data": {
      "image/png": "[encoded data removed]",
      "text/plain": [
       "<Figure size 432x288 with 1 Axes>"
      ]
     },
     "metadata": {
      "needs_background": "light"
     },
     "output_type": "display_data"
    }
   ],
   "source": [
    "sns.distplot(a=df,x=df['Item_Weight'])"
   ]
  },
  {
   "cell_type": "code",
   "execution_count": 10,
   "metadata": {},
   "outputs": [
    {
     "data": {
      "text/plain": [
       "12.909    802\n",
       "12.150     57\n",
       "17.600     51\n",
       "10.500     47\n",
       "15.100     44\n",
       "         ... \n",
       "6.280       1\n",
       "6.235       1\n",
       "7.070       1\n",
       "6.760       1\n",
       "8.485       1\n",
       "Name: Item_Weight, Length: 400, dtype: int64"
      ]
     },
     "execution_count": 10,
     "metadata": {},
     "output_type": "execute_result"
    }
   ],
   "source": [
    "df['Item_Weight'].value_counts()"
   ]
  },
  {
   "cell_type": "code",
   "execution_count": 11,
   "metadata": {},
   "outputs": [
    {
     "data": {
      "text/plain": [
       "12.909"
      ]
     },
     "execution_count": 11,
     "metadata": {},
     "output_type": "execute_result"
    }
   ],
   "source": [
    "round(df['Item_Weight'].mean(),3)"
   ]
  },
  {
   "cell_type": "code",
   "execution_count": 13,
   "metadata": {},
   "outputs": [
    {
     "data": {
      "text/plain": [
       "12.909    802\n",
       "12.150     57\n",
       "17.600     51\n",
       "10.500     47\n",
       "15.100     44\n",
       "         ... \n",
       "6.280       1\n",
       "6.235       1\n",
       "7.070       1\n",
       "6.760       1\n",
       "8.485       1\n",
       "Name: Item_Weight, Length: 400, dtype: int64"
      ]
     },
     "execution_count": 13,
     "metadata": {},
     "output_type": "execute_result"
    }
   ],
   "source": [
    "df['Item_Weight'].value_counts()"
   ]
  },
  {
   "cell_type": "code",
   "execution_count": 14,
   "metadata": {},
   "outputs": [
    {
     "data": {
      "text/plain": [
       "Medium    3032\n",
       "Small     1364\n",
       "High       594\n",
       "Name: Store_Size, dtype: int64"
      ]
     },
     "execution_count": 14,
     "metadata": {},
     "output_type": "execute_result"
    }
   ],
   "source": [
    "df['Store_Size'].value_counts()"
   ]
  },
  {
   "cell_type": "code",
   "execution_count": 15,
   "metadata": {},
   "outputs": [
    {
     "data": {
      "text/plain": [
       "10"
      ]
     },
     "execution_count": 15,
     "metadata": {},
     "output_type": "execute_result"
    }
   ],
   "source": [
    "df['Store_ID'].nunique()"
   ]
  },
  {
   "cell_type": "code",
   "execution_count": 16,
   "metadata": {},
   "outputs": [
    {
     "data": {
      "text/plain": [
       "array(['Cluster 3', 'Cluster 2', 'Cluster 1'], dtype=object)"
      ]
     },
     "execution_count": 16,
     "metadata": {},
     "output_type": "execute_result"
    }
   ],
   "source": [
    "df['Store_Location_Type'].unique()"
   ]
  },
  {
   "cell_type": "code",
   "execution_count": 17,
   "metadata": {},
   "outputs": [
    {
     "data": {
      "text/plain": [
       "BABATUNJI049    620\n",
       "BABATUNJI013    594\n",
       "BABATUNJI017    583\n",
       "BABATUNJI035    515\n",
       "BABATUNJI046    509\n",
       "BABATUNJI018    500\n",
       "BABATUNJI045    483\n",
       "BABATUNJI027    462\n",
       "BABATUNJI010    384\n",
       "BABATUNJI019    340\n",
       "Name: Store_ID, dtype: int64"
      ]
     },
     "execution_count": 17,
     "metadata": {},
     "output_type": "execute_result"
    }
   ],
   "source": [
    "df['Store_ID'].value_counts()"
   ]
  },
  {
   "cell_type": "code",
   "execution_count": 18,
   "metadata": {},
   "outputs": [
    {
     "data": {
      "image/png": "[encoded data removed]",
      "text/plain": [
       "<Figure size 576x360 with 1 Axes>"
      ]
     },
     "metadata": {
      "needs_background": "light"
     },
     "output_type": "display_data"
    }
   ],
   "source": [
    "plt.figure(figsize=(8,5))\n",
    "sns.countplot(x='Store_ID',data =df)\n",
    "plt.xticks(rotation = 45,ha='right')\n",
    "plt.show()"
   ]
  },
  {
   "cell_type": "markdown",
   "metadata": {},
   "source": [
    "From the graph above ,I can deduce that  \"BABTUNJIO49\"  was the store with the Highest number of products sold."
   ]
  },
  {
   "cell_type": "code",
   "execution_count": 19,
   "metadata": {},
   "outputs": [],
   "source": [
    "# Performing a groupby to get infotmation about individual Stores\n",
    "Stores = df.groupby('Store_ID')"
   ]
  },
  {
   "cell_type": "code",
   "execution_count": 20,
   "metadata": {},
   "outputs": [
    {
     "data": {
      "text/html": [
       "<div>\n",
       "<style scoped>\n",
       "    .dataframe tbody tr th:only-of-type {\n",
       "        vertical-align: middle;\n",
       "    }\n",
       "\n",
       "    .dataframe tbody tr th {\n",
       "        vertical-align: top;\n",
       "    }\n",
       "\n",
       "    .dataframe thead th {\n",
       "        text-align: right;\n",
       "    }\n",
       "</style>\n",
       "<table border=\"1\" class=\"dataframe\">\n",
       "  <thead>\n",
       "    <tr style=\"text-align: right;\">\n",
       "      <th></th>\n",
       "      <th>Item_Weight</th>\n",
       "      <th>Item_Visibility</th>\n",
       "      <th>Item_Price</th>\n",
       "      <th>Store_Start_Year</th>\n",
       "      <th>Item_Store_Returns</th>\n",
       "    </tr>\n",
       "    <tr>\n",
       "      <th>Store_ID</th>\n",
       "      <th></th>\n",
       "      <th></th>\n",
       "      <th></th>\n",
       "      <th></th>\n",
       "      <th></th>\n",
       "    </tr>\n",
       "  </thead>\n",
       "  <tbody>\n",
       "    <tr>\n",
       "      <th>BABATUNJI010</th>\n",
       "      <td>4945.965</td>\n",
       "      <td>39.398329</td>\n",
       "      <td>104234.38</td>\n",
       "      <td>769920</td>\n",
       "      <td>240638.60</td>\n",
       "    </tr>\n",
       "    <tr>\n",
       "      <th>BABATUNJI013</th>\n",
       "      <td>7609.240</td>\n",
       "      <td>34.949318</td>\n",
       "      <td>151975.79</td>\n",
       "      <td>1184436</td>\n",
       "      <td>2407829.22</td>\n",
       "    </tr>\n",
       "    <tr>\n",
       "      <th>BABATUNJI017</th>\n",
       "      <td>7535.455</td>\n",
       "      <td>35.107191</td>\n",
       "      <td>259352.45</td>\n",
       "      <td>1174162</td>\n",
       "      <td>4370201.60</td>\n",
       "    </tr>\n",
       "    <tr>\n",
       "      <th>BABATUNJI018</th>\n",
       "      <td>6494.185</td>\n",
       "      <td>30.564383</td>\n",
       "      <td>192849.77</td>\n",
       "      <td>1008000</td>\n",
       "      <td>2770310.84</td>\n",
       "    </tr>\n",
       "    <tr>\n",
       "      <th>BABATUNJI019</th>\n",
       "      <td>4389.060</td>\n",
       "      <td>37.774849</td>\n",
       "      <td>149500.22</td>\n",
       "      <td>677280</td>\n",
       "      <td>357844.32</td>\n",
       "    </tr>\n",
       "    <tr>\n",
       "      <th>BABATUNJI027</th>\n",
       "      <td>5963.958</td>\n",
       "      <td>27.267124</td>\n",
       "      <td>219606.99</td>\n",
       "      <td>920304</td>\n",
       "      <td>5803269.64</td>\n",
       "    </tr>\n",
       "    <tr>\n",
       "      <th>BABATUNJI035</th>\n",
       "      <td>6729.230</td>\n",
       "      <td>31.194159</td>\n",
       "      <td>237277.16</td>\n",
       "      <td>1035665</td>\n",
       "      <td>4058828.52</td>\n",
       "    </tr>\n",
       "    <tr>\n",
       "      <th>BABATUNJI045</th>\n",
       "      <td>6129.155</td>\n",
       "      <td>29.444659</td>\n",
       "      <td>226543.31</td>\n",
       "      <td>970347</td>\n",
       "      <td>3567311.83</td>\n",
       "    </tr>\n",
       "    <tr>\n",
       "      <th>BABATUNJI046</th>\n",
       "      <td>6597.860</td>\n",
       "      <td>30.213267</td>\n",
       "      <td>181327.58</td>\n",
       "      <td>1020036</td>\n",
       "      <td>2945704.10</td>\n",
       "    </tr>\n",
       "    <tr>\n",
       "      <th>BABATUNJI049</th>\n",
       "      <td>8021.125</td>\n",
       "      <td>37.998780</td>\n",
       "      <td>232433.29</td>\n",
       "      <td>1243720</td>\n",
       "      <td>3934626.95</td>\n",
       "    </tr>\n",
       "  </tbody>\n",
       "</table>\n",
       "</div>"
      ],
      "text/plain": [
       "              Item_Weight  Item_Visibility  Item_Price  Store_Start_Year  \\\n",
       "Store_ID                                                                   \n",
       "BABATUNJI010     4945.965        39.398329   104234.38            769920   \n",
       "BABATUNJI013     7609.240        34.949318   151975.79           1184436   \n",
       "BABATUNJI017     7535.455        35.107191   259352.45           1174162   \n",
       "BABATUNJI018     6494.185        30.564383   192849.77           1008000   \n",
       "BABATUNJI019     4389.060        37.774849   149500.22            677280   \n",
       "BABATUNJI027     5963.958        27.267124   219606.99            920304   \n",
       "BABATUNJI035     6729.230        31.194159   237277.16           1035665   \n",
       "BABATUNJI045     6129.155        29.444659   226543.31            970347   \n",
       "BABATUNJI046     6597.860        30.213267   181327.58           1020036   \n",
       "BABATUNJI049     8021.125        37.998780   232433.29           1243720   \n",
       "\n",
       "              Item_Store_Returns  \n",
       "Store_ID                          \n",
       "BABATUNJI010           240638.60  \n",
       "BABATUNJI013          2407829.22  \n",
       "BABATUNJI017          4370201.60  \n",
       "BABATUNJI018          2770310.84  \n",
       "BABATUNJI019           357844.32  \n",
       "BABATUNJI027          5803269.64  \n",
       "BABATUNJI035          4058828.52  \n",
       "BABATUNJI045          3567311.83  \n",
       "BABATUNJI046          2945704.10  \n",
       "BABATUNJI049          3934626.95  "
      ]
     },
     "execution_count": 20,
     "metadata": {},
     "output_type": "execute_result"
    }
   ],
   "source": [
    "Stores.sum()"
   ]
  },
  {
   "cell_type": "code",
   "execution_count": 21,
   "metadata": {},
   "outputs": [
    {
     "data": {
      "text/plain": [
       "Store_ID\n",
       "BABATUNJI010     240638.60\n",
       "BABATUNJI013    2407829.22\n",
       "BABATUNJI017    4370201.60\n",
       "BABATUNJI018    2770310.84\n",
       "BABATUNJI019     357844.32\n",
       "BABATUNJI027    5803269.64\n",
       "BABATUNJI035    4058828.52\n",
       "BABATUNJI045    3567311.83\n",
       "BABATUNJI046    2945704.10\n",
       "BABATUNJI049    3934626.95\n",
       "Name: Item_Store_Returns, dtype: float64"
      ]
     },
     "execution_count": 21,
     "metadata": {},
     "output_type": "execute_result"
    }
   ],
   "source": [
    "Stores['Item_Store_Returns'].sum()"
   ]
  },
  {
   "cell_type": "code",
   "execution_count": 22,
   "metadata": {},
   "outputs": [
    {
     "name": "stdout",
     "output_type": "stream",
     "text": [
      "BABATUNJI027\n"
     ]
    }
   ],
   "source": [
    "print(Stores.sum().idxmax()['Item_Store_Returns'])"
   ]
  },
  {
   "cell_type": "markdown",
   "metadata": {},
   "source": [
    "After The groupby, it is deduced that \"BABATUNJI027\" was the store with the highest returns( Profit )"
   ]
  },
  {
   "cell_type": "code",
   "execution_count": 23,
   "metadata": {},
   "outputs": [],
   "source": [
    "stores = ['BABATUNJI010', 'BABATUNJI013', 'BABATUNJI017', 'BABATUNJI018','BABATUNJI035', 'BABATUNJI045', 'BABATUNJI019', 'BABATUNJI027','BABATUNJI049', 'BABATUNJI046']"
   ]
  },
  {
   "cell_type": "code",
   "execution_count": 24,
   "metadata": {},
   "outputs": [
    {
     "data": {
      "text/plain": [
       "19.05424831022034"
      ]
     },
     "execution_count": 24,
     "metadata": {},
     "output_type": "execute_result"
    }
   ],
   "source": [
    "(Stores.sum().max()['Item_Store_Returns']/df['Item_Store_Returns'].sum()) * 100"
   ]
  },
  {
   "cell_type": "code",
   "execution_count": 25,
   "metadata": {},
   "outputs": [
    {
     "data": {
      "text/plain": [
       "9.258517034068136"
      ]
     },
     "execution_count": 25,
     "metadata": {},
     "output_type": "execute_result"
    }
   ],
   "source": [
    "(df['Store_ID'].value_counts()['BABATUNJI027']/df.shape[0]) * 100"
   ]
  },
  {
   "cell_type": "code",
   "execution_count": 26,
   "metadata": {},
   "outputs": [
    {
     "name": "stdout",
     "output_type": "stream",
     "text": [
      "BABATUNJI010 = 0.79%\n",
      "BABATUNJI013 = 7.91%\n",
      "BABATUNJI017 = 14.35%\n",
      "BABATUNJI018 = 9.1%\n",
      "BABATUNJI035 = 13.33%\n",
      "BABATUNJI045 = 11.71%\n",
      "BABATUNJI019 = 1.17%\n",
      "BABATUNJI027 = 19.05%\n",
      "BABATUNJI049 = 12.92%\n",
      "BABATUNJI046 = 9.67%\n"
     ]
    }
   ],
   "source": [
    "for x in stores:\n",
    "    percent = (Stores['Item_Store_Returns'].sum()[x]/df['Item_Store_Returns'].sum()) * 100\n",
    "    print(f'{x} = {percent.round(2)}%')"
   ]
  },
  {
   "cell_type": "markdown",
   "metadata": {},
   "source": [
    "Based on the research carried out on the above dataset, having checked through the Column Store_ID and Item_Store_Returns \n",
    "About 19% of the profit recorded was from store \"BABATUNJI027\" hence making it the Store with the highest profit despite only accounting for 6% of the number of products sold "
   ]
  },
  {
   "cell_type": "code",
   "execution_count": 27,
   "metadata": {},
   "outputs": [],
   "source": [
    "BABA027 = df[df['Store_ID'] == 'BABATUNJI027']"
   ]
  },
  {
   "cell_type": "code",
   "execution_count": 28,
   "metadata": {},
   "outputs": [
    {
     "data": {
      "text/plain": [
       "'NCE42'"
      ]
     },
     "execution_count": 28,
     "metadata": {},
     "output_type": "execute_result"
    }
   ],
   "source": [
    "BABA027.groupby('Item_ID')['Item_Store_Returns'].sum().idxmax()"
   ]
  },
  {
   "cell_type": "code",
   "execution_count": 29,
   "metadata": {},
   "outputs": [
    {
     "name": "stdout",
     "output_type": "stream",
     "text": [
      "In Store BABATUNJI010, the highest profit was on Household products\n",
      "In Store BABATUNJI010, the lowest profit was on Seafood products\n",
      "\n",
      "In Store BABATUNJI013, the highest profit was on Snack Foods products\n",
      "In Store BABATUNJI013, the lowest profit was on Seafood products\n",
      "\n",
      "In Store BABATUNJI017, the highest profit was on Fruits and Vegetables products\n",
      "In Store BABATUNJI017, the lowest profit was on Seafood products\n",
      "\n",
      "In Store BABATUNJI018, the highest profit was on Snack Foods products\n",
      "In Store BABATUNJI018, the lowest profit was on Breakfast products\n",
      "\n",
      "In Store BABATUNJI035, the highest profit was on Snack Foods products\n",
      "In Store BABATUNJI035, the lowest profit was on Seafood products\n",
      "\n",
      "In Store BABATUNJI045, the highest profit was on Fruits and Vegetables products\n",
      "In Store BABATUNJI045, the lowest profit was on Breakfast products\n",
      "\n",
      "In Store BABATUNJI019, the highest profit was on Snack Foods products\n",
      "In Store BABATUNJI019, the lowest profit was on Starchy Foods products\n",
      "\n",
      "In Store BABATUNJI027, the highest profit was on Fruits and Vegetables products\n",
      "In Store BABATUNJI027, the lowest profit was on Seafood products\n",
      "\n",
      "In Store BABATUNJI049, the highest profit was on Fruits and Vegetables products\n",
      "In Store BABATUNJI049, the lowest profit was on Seafood products\n",
      "\n",
      "In Store BABATUNJI046, the highest profit was on Snack Foods products\n",
      "In Store BABATUNJI046, the lowest profit was on Breakfast products\n",
      "\n"
     ]
    }
   ],
   "source": [
    "for store in df['Store_ID'].unique():\n",
    "    a = df[df['Store_ID'] == store].groupby('Item_Type')['Item_Store_Returns'].sum().idxmax()\n",
    "    b = df[df['Store_ID'] == store].groupby('Item_Type')['Item_Store_Returns'].sum().idxmin()\n",
    "    print(f'In Store {store}, the highest profit was on {a} products')\n",
    "    print(f'In Store {store}, the lowest profit was on {b} products\\n')"
   ]
  },
  {
   "cell_type": "markdown",
   "metadata": {},
   "source": [
    "By Calculating the sum of the Profits made by the product types by their Store IDs,I infered that Snack foods and Fruits and Vegetables made the highest profit in 5 and 4 stores respectively while the last store made the highest profit on Household products"
   ]
  },
  {
   "cell_type": "code",
   "execution_count": 30,
   "metadata": {},
   "outputs": [
    {
     "data": {
      "text/plain": [
       "Item_Type\n",
       "Baking Goods             1944151.22\n",
       "Breads                    835605.63\n",
       "Breakfast                 403681.24\n",
       "Canned                   2334080.29\n",
       "Dairy                    2173104.79\n",
       "Frozen Foods             2750915.93\n",
       "Fruits and Vegetables    4753680.69\n",
       "Hard Drinks               805083.80\n",
       "Health and Hygiene       1657208.00\n",
       "Household                3488712.43\n",
       "Meat                     1606164.39\n",
       "Others                    556334.25\n",
       "Seafood                   262558.27\n",
       "Snack Foods              4744323.12\n",
       "Soft Drinks              1573069.09\n",
       "Starchy Foods             567892.48\n",
       "Name: Item_Store_Returns, dtype: float64"
      ]
     },
     "execution_count": 30,
     "metadata": {},
     "output_type": "execute_result"
    }
   ],
   "source": [
    "df.groupby('Item_Type')['Item_Store_Returns'].sum()"
   ]
  },
  {
   "cell_type": "code",
   "execution_count": 31,
   "metadata": {},
   "outputs": [
    {
     "data": {
      "text/plain": [
       "Snack Foods              758\n",
       "Fruits and Vegetables    747\n",
       "Household                567\n",
       "Frozen Foods             457\n",
       "Canned                   376\n",
       "Dairy                    350\n",
       "Baking Goods             344\n",
       "Health and Hygiene       307\n",
       "Meat                     264\n",
       "Soft Drinks              261\n",
       "Breads                   137\n",
       "Hard Drinks              134\n",
       "Others                   100\n",
       "Starchy Foods             81\n",
       "Breakfast                 66\n",
       "Seafood                   41\n",
       "Name: Item_Type, dtype: int64"
      ]
     },
     "execution_count": 31,
     "metadata": {},
     "output_type": "execute_result"
    }
   ],
   "source": [
    "df['Item_Type'].value_counts()"
   ]
  },
  {
   "cell_type": "code",
   "execution_count": 32,
   "metadata": {},
   "outputs": [],
   "source": [
    "def plot(col,data = df,col_y = 'Item_Store_Returns'):\n",
    "    plt.figure(figsize=(8,6))\n",
    "    sns.boxplot(x=col,y=col_y,data=df)\n",
    "    plt.xticks(rotation=45,ha='right')"
   ]
  },
  {
   "cell_type": "code",
   "execution_count": 33,
   "metadata": {},
   "outputs": [],
   "source": [
    "def countplot(col,data=df):\n",
    "    plt.figure(figsize=(8,6))\n",
    "    sns.countplot(x=col,data=df)\n",
    "    plt.xticks(rotation=45,ha='right')"
   ]
  },
  {
   "cell_type": "code",
   "execution_count": 34,
   "metadata": {},
   "outputs": [
    {
     "data": {
      "image/png": "[encoded data removed]",
      "text/plain": [
       "<Figure size 576x432 with 1 Axes>"
      ]
     },
     "metadata": {
      "needs_background": "light"
     },
     "output_type": "display_data"
    }
   ],
   "source": [
    "countplot('Item_Type')"
   ]
  },
  {
   "cell_type": "code",
   "execution_count": 35,
   "metadata": {},
   "outputs": [
    {
     "data": {
      "image/png": "[encoded data removed]",
      "text/plain": [
       "<Figure size 576x432 with 1 Axes>"
      ]
     },
     "metadata": {
      "needs_background": "light"
     },
     "output_type": "display_data"
    }
   ],
   "source": [
    "plot('Item_Type')"
   ]
  },
  {
   "cell_type": "markdown",
   "metadata": {},
   "source": [
    "I learnt from the plots above that Snack Foods and Fruits and Vegetables were the dominant Item_types in quantity and hence they made the most profit."
   ]
  },
  {
   "cell_type": "code",
   "execution_count": 36,
   "metadata": {},
   "outputs": [
    {
     "data": {
      "image/png": "[encoded data removed]",
      "text/plain": [
       "<Figure size 576x432 with 1 Axes>"
      ]
     },
     "metadata": {
      "needs_background": "light"
     },
     "output_type": "display_data"
    }
   ],
   "source": [
    "plt.figure(figsize=(8,6))\n",
    "sns.barplot(x='Item_Type',y='Item_Price',data=df)\n",
    "plt.xticks(rotation=45,ha='right')\n",
    "plt.show()"
   ]
  },
  {
   "cell_type": "code",
   "execution_count": 37,
   "metadata": {},
   "outputs": [
    {
     "data": {
      "text/plain": [
       "Store_Location_Type\n",
       "Cluster 1     7238175.37\n",
       "Cluster 2    11996341.95\n",
       "Cluster 3    11222048.30\n",
       "Name: Item_Store_Returns, dtype: float64"
      ]
     },
     "execution_count": 37,
     "metadata": {},
     "output_type": "execute_result"
    }
   ],
   "source": [
    "df.groupby('Store_Location_Type')['Item_Store_Returns'].sum()"
   ]
  },
  {
   "cell_type": "code",
   "execution_count": 38,
   "metadata": {},
   "outputs": [
    {
     "data": {
      "image/png": "[encoded data removed]",
      "text/plain": [
       "<Figure size 576x432 with 1 Axes>"
      ]
     },
     "metadata": {
      "needs_background": "light"
     },
     "output_type": "display_data"
    }
   ],
   "source": [
    "plot('Store_Location_Type')"
   ]
  },
  {
   "cell_type": "markdown",
   "metadata": {},
   "source": [
    "As seen above, the cluster two has a high range of individual returns on products and also has the highest sum of returns among all clusters"
   ]
  },
  {
   "cell_type": "code",
   "execution_count": 39,
   "metadata": {},
   "outputs": [
    {
     "data": {
      "text/html": [
       "<div>\n",
       "<style scoped>\n",
       "    .dataframe tbody tr th:only-of-type {\n",
       "        vertical-align: middle;\n",
       "    }\n",
       "\n",
       "    .dataframe tbody tr th {\n",
       "        vertical-align: top;\n",
       "    }\n",
       "\n",
       "    .dataframe thead th {\n",
       "        text-align: right;\n",
       "    }\n",
       "</style>\n",
       "<table border=\"1\" class=\"dataframe\">\n",
       "  <thead>\n",
       "    <tr style=\"text-align: right;\">\n",
       "      <th></th>\n",
       "      <th>Item_ID</th>\n",
       "      <th>Store_ID</th>\n",
       "      <th>Item_Store_ID</th>\n",
       "      <th>Item_Weight</th>\n",
       "      <th>Item_Sugar_Content</th>\n",
       "      <th>Item_Visibility</th>\n",
       "      <th>Item_Type</th>\n",
       "      <th>Item_Price</th>\n",
       "      <th>Store_Start_Year</th>\n",
       "      <th>Store_Size</th>\n",
       "      <th>Store_Location_Type</th>\n",
       "      <th>Store_Type</th>\n",
       "      <th>Item_Store_Returns</th>\n",
       "      <th>Store_Age</th>\n",
       "    </tr>\n",
       "  </thead>\n",
       "  <tbody>\n",
       "    <tr>\n",
       "      <th>0</th>\n",
       "      <td>DRA12</td>\n",
       "      <td>BABATUNJI010</td>\n",
       "      <td>DRA12_BABATUNJI010</td>\n",
       "      <td>11.600</td>\n",
       "      <td>Low Sugar</td>\n",
       "      <td>0.068535</td>\n",
       "      <td>Soft Drinks</td>\n",
       "      <td>357.54</td>\n",
       "      <td>2005</td>\n",
       "      <td>Medium</td>\n",
       "      <td>Cluster 3</td>\n",
       "      <td>Grocery Store</td>\n",
       "      <td>709.08</td>\n",
       "      <td>16</td>\n",
       "    </tr>\n",
       "    <tr>\n",
       "      <th>1</th>\n",
       "      <td>DRA12</td>\n",
       "      <td>BABATUNJI013</td>\n",
       "      <td>DRA12_BABATUNJI013</td>\n",
       "      <td>11.600</td>\n",
       "      <td>Low Sugar</td>\n",
       "      <td>0.040912</td>\n",
       "      <td>Soft Drinks</td>\n",
       "      <td>355.79</td>\n",
       "      <td>1994</td>\n",
       "      <td>High</td>\n",
       "      <td>Cluster 3</td>\n",
       "      <td>Supermarket Type1</td>\n",
       "      <td>6381.69</td>\n",
       "      <td>27</td>\n",
       "    </tr>\n",
       "    <tr>\n",
       "      <th>2</th>\n",
       "      <td>DRA12</td>\n",
       "      <td>BABATUNJI017</td>\n",
       "      <td>DRA12_BABATUNJI017</td>\n",
       "      <td>11.600</td>\n",
       "      <td>Low Sugar</td>\n",
       "      <td>0.041178</td>\n",
       "      <td>Soft Drinks</td>\n",
       "      <td>350.79</td>\n",
       "      <td>2014</td>\n",
       "      <td>Medium</td>\n",
       "      <td>Cluster 2</td>\n",
       "      <td>Supermarket Type1</td>\n",
       "      <td>6381.69</td>\n",
       "      <td>7</td>\n",
       "    </tr>\n",
       "    <tr>\n",
       "      <th>3</th>\n",
       "      <td>DRA12</td>\n",
       "      <td>BABATUNJI018</td>\n",
       "      <td>DRA12_BABATUNJI018</td>\n",
       "      <td>11.600</td>\n",
       "      <td>Low Sugar</td>\n",
       "      <td>0.041113</td>\n",
       "      <td>Soft Drinks</td>\n",
       "      <td>355.04</td>\n",
       "      <td>2016</td>\n",
       "      <td>Medium</td>\n",
       "      <td>Cluster 3</td>\n",
       "      <td>Supermarket Type2</td>\n",
       "      <td>2127.23</td>\n",
       "      <td>5</td>\n",
       "    </tr>\n",
       "    <tr>\n",
       "      <th>4</th>\n",
       "      <td>DRA12</td>\n",
       "      <td>BABATUNJI035</td>\n",
       "      <td>DRA12_BABATUNJI035</td>\n",
       "      <td>11.600</td>\n",
       "      <td>Ultra Low Sugar</td>\n",
       "      <td>0.000000</td>\n",
       "      <td>Soft Drinks</td>\n",
       "      <td>354.79</td>\n",
       "      <td>2011</td>\n",
       "      <td>Small</td>\n",
       "      <td>Cluster 2</td>\n",
       "      <td>Supermarket Type1</td>\n",
       "      <td>2481.77</td>\n",
       "      <td>10</td>\n",
       "    </tr>\n",
       "    <tr>\n",
       "      <th>...</th>\n",
       "      <td>...</td>\n",
       "      <td>...</td>\n",
       "      <td>...</td>\n",
       "      <td>...</td>\n",
       "      <td>...</td>\n",
       "      <td>...</td>\n",
       "      <td>...</td>\n",
       "      <td>...</td>\n",
       "      <td>...</td>\n",
       "      <td>...</td>\n",
       "      <td>...</td>\n",
       "      <td>...</td>\n",
       "      <td>...</td>\n",
       "      <td>...</td>\n",
       "    </tr>\n",
       "    <tr>\n",
       "      <th>4985</th>\n",
       "      <td>NCZ54</td>\n",
       "      <td>BABATUNJI019</td>\n",
       "      <td>NCZ54_BABATUNJI019</td>\n",
       "      <td>12.909</td>\n",
       "      <td>Low Sugar</td>\n",
       "      <td>0.145952</td>\n",
       "      <td>Household</td>\n",
       "      <td>402.39</td>\n",
       "      <td>1992</td>\n",
       "      <td>Small</td>\n",
       "      <td>Cluster 1</td>\n",
       "      <td>Grocery Store</td>\n",
       "      <td>406.14</td>\n",
       "      <td>29</td>\n",
       "    </tr>\n",
       "    <tr>\n",
       "      <th>4986</th>\n",
       "      <td>NCZ54</td>\n",
       "      <td>BABATUNJI027</td>\n",
       "      <td>NCZ54_BABATUNJI027</td>\n",
       "      <td>12.909</td>\n",
       "      <td>Low Sugar</td>\n",
       "      <td>0.082956</td>\n",
       "      <td>Household</td>\n",
       "      <td>410.14</td>\n",
       "      <td>1992</td>\n",
       "      <td>Medium</td>\n",
       "      <td>Cluster 3</td>\n",
       "      <td>Supermarket Type3</td>\n",
       "      <td>13808.69</td>\n",
       "      <td>29</td>\n",
       "    </tr>\n",
       "    <tr>\n",
       "      <th>4987</th>\n",
       "      <td>NCZ54</td>\n",
       "      <td>BABATUNJI045</td>\n",
       "      <td>NCZ54_BABATUNJI045</td>\n",
       "      <td>14.650</td>\n",
       "      <td>Low Sugar</td>\n",
       "      <td>0.083528</td>\n",
       "      <td>Household</td>\n",
       "      <td>406.14</td>\n",
       "      <td>2009</td>\n",
       "      <td>Medium</td>\n",
       "      <td>Cluster 2</td>\n",
       "      <td>Supermarket Type1</td>\n",
       "      <td>5685.93</td>\n",
       "      <td>12</td>\n",
       "    </tr>\n",
       "    <tr>\n",
       "      <th>4988</th>\n",
       "      <td>NCZ54</td>\n",
       "      <td>BABATUNJI046</td>\n",
       "      <td>NCZ54_BABATUNJI046</td>\n",
       "      <td>14.650</td>\n",
       "      <td>Low Sugar</td>\n",
       "      <td>0.083359</td>\n",
       "      <td>Household</td>\n",
       "      <td>404.89</td>\n",
       "      <td>2004</td>\n",
       "      <td>Small</td>\n",
       "      <td>Cluster 1</td>\n",
       "      <td>Supermarket Type1</td>\n",
       "      <td>11778.00</td>\n",
       "      <td>17</td>\n",
       "    </tr>\n",
       "    <tr>\n",
       "      <th>4989</th>\n",
       "      <td>NCZ54</td>\n",
       "      <td>BABATUNJI049</td>\n",
       "      <td>NCZ54_BABATUNJI049</td>\n",
       "      <td>14.650</td>\n",
       "      <td>Low Sugar</td>\n",
       "      <td>0.083489</td>\n",
       "      <td>Household</td>\n",
       "      <td>403.39</td>\n",
       "      <td>2006</td>\n",
       "      <td>Medium</td>\n",
       "      <td>Cluster 1</td>\n",
       "      <td>Supermarket Type1</td>\n",
       "      <td>17870.07</td>\n",
       "      <td>15</td>\n",
       "    </tr>\n",
       "  </tbody>\n",
       "</table>\n",
       "<p>4990 rows × 14 columns</p>\n",
       "</div>"
      ],
      "text/plain": [
       "     Item_ID      Store_ID       Item_Store_ID  Item_Weight  \\\n",
       "0      DRA12  BABATUNJI010  DRA12_BABATUNJI010       11.600   \n",
       "1      DRA12  BABATUNJI013  DRA12_BABATUNJI013       11.600   \n",
       "2      DRA12  BABATUNJI017  DRA12_BABATUNJI017       11.600   \n",
       "3      DRA12  BABATUNJI018  DRA12_BABATUNJI018       11.600   \n",
       "4      DRA12  BABATUNJI035  DRA12_BABATUNJI035       11.600   \n",
       "...      ...           ...                 ...          ...   \n",
       "4985   NCZ54  BABATUNJI019  NCZ54_BABATUNJI019       12.909   \n",
       "4986   NCZ54  BABATUNJI027  NCZ54_BABATUNJI027       12.909   \n",
       "4987   NCZ54  BABATUNJI045  NCZ54_BABATUNJI045       14.650   \n",
       "4988   NCZ54  BABATUNJI046  NCZ54_BABATUNJI046       14.650   \n",
       "4989   NCZ54  BABATUNJI049  NCZ54_BABATUNJI049       14.650   \n",
       "\n",
       "     Item_Sugar_Content  Item_Visibility    Item_Type  Item_Price  \\\n",
       "0             Low Sugar         0.068535  Soft Drinks      357.54   \n",
       "1             Low Sugar         0.040912  Soft Drinks      355.79   \n",
       "2             Low Sugar         0.041178  Soft Drinks      350.79   \n",
       "3             Low Sugar         0.041113  Soft Drinks      355.04   \n",
       "4       Ultra Low Sugar         0.000000  Soft Drinks      354.79   \n",
       "...                 ...              ...          ...         ...   \n",
       "4985          Low Sugar         0.145952    Household      402.39   \n",
       "4986          Low Sugar         0.082956    Household      410.14   \n",
       "4987          Low Sugar         0.083528    Household      406.14   \n",
       "4988          Low Sugar         0.083359    Household      404.89   \n",
       "4989          Low Sugar         0.083489    Household      403.39   \n",
       "\n",
       "      Store_Start_Year Store_Size Store_Location_Type         Store_Type  \\\n",
       "0                 2005     Medium           Cluster 3      Grocery Store   \n",
       "1                 1994       High           Cluster 3  Supermarket Type1   \n",
       "2                 2014     Medium           Cluster 2  Supermarket Type1   \n",
       "3                 2016     Medium           Cluster 3  Supermarket Type2   \n",
       "4                 2011      Small           Cluster 2  Supermarket Type1   \n",
       "...                ...        ...                 ...                ...   \n",
       "4985              1992      Small           Cluster 1      Grocery Store   \n",
       "4986              1992     Medium           Cluster 3  Supermarket Type3   \n",
       "4987              2009     Medium           Cluster 2  Supermarket Type1   \n",
       "4988              2004      Small           Cluster 1  Supermarket Type1   \n",
       "4989              2006     Medium           Cluster 1  Supermarket Type1   \n",
       "\n",
       "      Item_Store_Returns  Store_Age  \n",
       "0                 709.08         16  \n",
       "1                6381.69         27  \n",
       "2                6381.69          7  \n",
       "3                2127.23          5  \n",
       "4                2481.77         10  \n",
       "...                  ...        ...  \n",
       "4985              406.14         29  \n",
       "4986            13808.69         29  \n",
       "4987             5685.93         12  \n",
       "4988            11778.00         17  \n",
       "4989            17870.07         15  \n",
       "\n",
       "[4990 rows x 14 columns]"
      ]
     },
     "execution_count": 39,
     "metadata": {},
     "output_type": "execute_result"
    }
   ],
   "source": [
    "df['Store_Age'] = 2021-df['Store_Start_Year']\n",
    "df"
   ]
  },
  {
   "cell_type": "code",
   "execution_count": 40,
   "metadata": {},
   "outputs": [
    {
     "data": {
      "image/png": "[encoded data removed]",
      "text/plain": [
       "<Figure size 576x432 with 1 Axes>"
      ]
     },
     "metadata": {
      "needs_background": "light"
     },
     "output_type": "display_data"
    }
   ],
   "source": [
    "plot('Store_Age')"
   ]
  },
  {
   "cell_type": "markdown",
   "metadata": {},
   "source": [
    "From the graph above it is infered that the profit does not progressively increase as the store age does but the oldest score made the highest range of returns on individual items"
   ]
  },
  {
   "cell_type": "code",
   "execution_count": 41,
   "metadata": {},
   "outputs": [
    {
     "data": {
      "text/plain": [
       "29    802\n",
       "15    620\n",
       "27    594\n",
       "7     583\n",
       "10    515\n",
       "17    509\n",
       "5     500\n",
       "12    483\n",
       "16    384\n",
       "Name: Store_Age, dtype: int64"
      ]
     },
     "execution_count": 41,
     "metadata": {},
     "output_type": "execute_result"
    }
   ],
   "source": [
    "df['Store_Age'].value_counts()"
   ]
  },
  {
   "cell_type": "code",
   "execution_count": 42,
   "metadata": {},
   "outputs": [
    {
     "data": {
      "text/plain": [
       "Item_ID                0\n",
       "Store_ID               0\n",
       "Item_Store_ID          0\n",
       "Item_Weight            0\n",
       "Item_Sugar_Content     0\n",
       "Item_Visibility        0\n",
       "Item_Type              0\n",
       "Item_Price             0\n",
       "Store_Start_Year       0\n",
       "Store_Size             0\n",
       "Store_Location_Type    0\n",
       "Store_Type             0\n",
       "Item_Store_Returns     0\n",
       "Store_Age              0\n",
       "dtype: int64"
      ]
     },
     "execution_count": 42,
     "metadata": {},
     "output_type": "execute_result"
    }
   ],
   "source": [
    "df.isnull().sum()"
   ]
  },
  {
   "cell_type": "code",
   "execution_count": 43,
   "metadata": {},
   "outputs": [
    {
     "data": {
      "image/png": "[encoded data removed]",
      "text/plain": [
       "<Figure size 576x432 with 1 Axes>"
      ]
     },
     "metadata": {
      "needs_background": "light"
     },
     "output_type": "display_data"
    }
   ],
   "source": [
    "plot('Store_Size')"
   ]
  },
  {
   "cell_type": "markdown",
   "metadata": {},
   "source": [
    "The Store size \"Medium\" generally made more returns as infered from the graph above"
   ]
  },
  {
   "cell_type": "code",
   "execution_count": 44,
   "metadata": {},
   "outputs": [
    {
     "data": {
      "text/plain": [
       "'Medium'"
      ]
     },
     "execution_count": 44,
     "metadata": {},
     "output_type": "execute_result"
    }
   ],
   "source": [
    "df['Store_Size'].mode()[0]"
   ]
  },
  {
   "cell_type": "code",
   "execution_count": 45,
   "metadata": {},
   "outputs": [
    {
     "data": {
      "text/plain": [
       "Medium    3032\n",
       "Small     1364\n",
       "High       594\n",
       "Name: Store_Size, dtype: int64"
      ]
     },
     "execution_count": 45,
     "metadata": {},
     "output_type": "execute_result"
    }
   ],
   "source": [
    "df['Store_Size'].value_counts()"
   ]
  },
  {
   "cell_type": "code",
   "execution_count": 46,
   "metadata": {},
   "outputs": [
    {
     "data": {
      "image/png": "[encoded data removed]",
      "text/plain": [
       "<Figure size 576x432 with 1 Axes>"
      ]
     },
     "metadata": {
      "needs_background": "light"
     },
     "output_type": "display_data"
    }
   ],
   "source": [
    "plot('Store_Size')"
   ]
  },
  {
   "cell_type": "markdown",
   "metadata": {},
   "source": [
    "# CONCLUSION"
   ]
  },
  {
   "cell_type": "raw",
   "metadata": {},
   "source": [
    "From my Analysis above, Some products clearly have a higher return compared to others. Despite the fact that \"Starchy foods\" were the most expensive products, It was \"Snack foods\" and \"Fruits and Vegetables\" that made the most profit in 5 and 4 stores respectively. And that was due to the fact that those were the products that people bought the most in 9 out of the 10 stores .\n",
    "    Also, in the Store_Location_Type , \"Cluster 2\" had the highest range of distribution of returns for individual items and also bagged the highest sum of profit returns for all products but was closely followed by \"Cluster 3\" because of the number of products sold in that cluster.\n",
    "    When it comes to age, it was only the oldest store that had the higher distribution of profits.AND it was the stores with medium size that had more profit.\n",
    "    \n",
    "   So i advise Chief Babatunji that as he plans to expand, he should focus on \"Snack Foods\" and \"Fruits and Vegetables\" as products to sell and the location type should be cluster 2 or 3 depending on whether he prefers more profit or more sales,\n",
    "   He should also wait for the stores to age before expecting large returns and the store should be medium size store"
   ]
  }
 ],
 "metadata": {
  "kernelspec": {
   "display_name": "Python 3",
   "language": "python",
   "name": "python3"
  },
  "language_info": {
   "codemirror_mode": {
    "name": "ipython",
    "version": 3
   },
   "file_extension": ".py",
   "mimetype": "text/x-python",
   "name": "python",
   "nbconvert_exporter": "python",
   "pygments_lexer": "ipython3",
   "version": "3.9.13"
  },
  "vscode": {
   "interpreter": {
    "hash": "1255b0e275770ed5b3d612e2724ce3236dc075fada46d4d8145d53c99cd0be9f"
   }
  }
 },
 "nbformat": 4,
 "nbformat_minor": 4
}
